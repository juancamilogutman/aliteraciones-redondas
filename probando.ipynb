{
 "cells": [
  {
   "cell_type": "markdown",
   "metadata": {},
   "source": [
    "# Probando"
   ]
  },
  {
   "cell_type": "code",
   "execution_count": 1,
   "metadata": {},
   "outputs": [],
   "source": [
    "# Lubricá tus branquias\n",
    "# https://stackoverflow.com/questions/42125088/finding-alliterative-word-sequences-with-python\n",
    "import pandas as pd\n",
    "df = pd.read_csv(\"base_ricotera.csv\")"
   ]
  },
  {
   "cell_type": "code",
   "execution_count": 2,
   "metadata": {},
   "outputs": [
    {
     "data": {
      "text/html": [
       "<div>\n",
       "<style scoped>\n",
       "    .dataframe tbody tr th:only-of-type {\n",
       "        vertical-align: middle;\n",
       "    }\n",
       "\n",
       "    .dataframe tbody tr th {\n",
       "        vertical-align: top;\n",
       "    }\n",
       "\n",
       "    .dataframe thead th {\n",
       "        text-align: right;\n",
       "    }\n",
       "</style>\n",
       "<table border=\"1\" class=\"dataframe\">\n",
       "  <thead>\n",
       "    <tr style=\"text-align: right;\">\n",
       "      <th></th>\n",
       "      <th>Unnamed: 0</th>\n",
       "      <th>autor</th>\n",
       "      <th>titulo</th>\n",
       "      <th>texto</th>\n",
       "    </tr>\n",
       "  </thead>\n",
       "  <tbody>\n",
       "    <tr>\n",
       "      <th>0</th>\n",
       "      <td>1</td>\n",
       "      <td>Patricio Rey y sus Redonditos de Ricota</td>\n",
       "      <td>Alien Duce</td>\n",
       "      <td>Alien duce adorno tu esclavitud y en un edific...</td>\n",
       "    </tr>\n",
       "    <tr>\n",
       "      <th>1</th>\n",
       "      <td>2</td>\n",
       "      <td>Patricio Rey y sus Redonditos de Ricota</td>\n",
       "      <td>Aquella solitaria vaca cubana</td>\n",
       "      <td>Aquella Solitaria Vaca Cubana Miraba el cielo ...</td>\n",
       "    </tr>\n",
       "    <tr>\n",
       "      <th>2</th>\n",
       "      <td>3</td>\n",
       "      <td>Patricio Rey y sus Redonditos de Ricota</td>\n",
       "      <td>Barbazul versus el amor letal</td>\n",
       "      <td>Esta vez por fin la prision te va a gustar el ...</td>\n",
       "    </tr>\n",
       "    <tr>\n",
       "      <th>3</th>\n",
       "      <td>4</td>\n",
       "      <td>Patricio Rey y sus Redonditos de Ricota</td>\n",
       "      <td>Blues de la artilleria</td>\n",
       "      <td>Sos el as del Club Paris as lo tuyo no es el r...</td>\n",
       "    </tr>\n",
       "    <tr>\n",
       "      <th>4</th>\n",
       "      <td>5</td>\n",
       "      <td>Patricio Rey y sus Redonditos de Ricota</td>\n",
       "      <td>Blues de la libertad</td>\n",
       "      <td>Mi amor la libertad es fiebre es oracion fasti...</td>\n",
       "    </tr>\n",
       "  </tbody>\n",
       "</table>\n",
       "</div>"
      ],
      "text/plain": [
       "   Unnamed: 0                                    autor  \\\n",
       "0           1  Patricio Rey y sus Redonditos de Ricota   \n",
       "1           2  Patricio Rey y sus Redonditos de Ricota   \n",
       "2           3  Patricio Rey y sus Redonditos de Ricota   \n",
       "3           4  Patricio Rey y sus Redonditos de Ricota   \n",
       "4           5  Patricio Rey y sus Redonditos de Ricota   \n",
       "\n",
       "                          titulo  \\\n",
       "0                     Alien Duce   \n",
       "1  Aquella solitaria vaca cubana   \n",
       "2  Barbazul versus el amor letal   \n",
       "3         Blues de la artilleria   \n",
       "4           Blues de la libertad   \n",
       "\n",
       "                                               texto  \n",
       "0  Alien duce adorno tu esclavitud y en un edific...  \n",
       "1  Aquella Solitaria Vaca Cubana Miraba el cielo ...  \n",
       "2  Esta vez por fin la prision te va a gustar el ...  \n",
       "3  Sos el as del Club Paris as lo tuyo no es el r...  \n",
       "4  Mi amor la libertad es fiebre es oracion fasti...  "
      ]
     },
     "execution_count": 2,
     "metadata": {},
     "output_type": "execute_result"
    }
   ],
   "source": [
    "df.head()"
   ]
  }
 ],
 "metadata": {
  "kernelspec": {
   "display_name": "dhdsblend2021",
   "language": "python",
   "name": "python3"
  },
  "language_info": {
   "codemirror_mode": {
    "name": "ipython",
    "version": 3
   },
   "file_extension": ".py",
   "mimetype": "text/x-python",
   "name": "python",
   "nbconvert_exporter": "python",
   "pygments_lexer": "ipython3",
   "version": "3.8.18"
  }
 },
 "nbformat": 4,
 "nbformat_minor": 2
}

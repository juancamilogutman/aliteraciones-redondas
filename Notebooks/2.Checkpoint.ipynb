{
 "cells": [
  {
   "cell_type": "code",
   "execution_count": null,
   "id": "grateful-spelling",
   "metadata": {},
   "outputs": [],
   "source": [
    "# initial setup\n",
    "%run \"../../../common/0_notebooks_base_setup.py\"\n"
   ]
  },
  {
   "cell_type": "markdown",
   "id": "martial-dynamics",
   "metadata": {},
   "source": [
    "<img src='../../../common/logo_DH.png' align='left' width=35%/>"
   ]
  },
  {
   "cell_type": "markdown",
   "id": "balanced-coordinate",
   "metadata": {},
   "source": [
    "# Checkpoint Preprocesamiento en Text Mining."
   ]
  },
  {
   "cell_type": "markdown",
   "id": "applied-flower",
   "metadata": {},
   "source": [
    "En esta práctiva vamos a usar el dataset de mails que ya usamos en la clase de Naive Bayes.\n",
    "\n",
    "Este dataset (<a href=\"https://www.kaggle.com/riyadhrazzaq/multinomial-naive-bayes-from-scratch/data?select=spam.csv\" traget=\"_blank\">fuente</a>) tiene dos columnas:\n",
    "\n",
    "* una columna con el cuerpo del mail, \n",
    "\n",
    "* y otra con la etiqueta spam / ham según corresponda a un mail que es spam o no respectivamente.\n",
    "\n",
    "Vamos a preprocesar los textos de los mails usando `CountVectorizer` y `TfidfTransformer` y comparar las representaciones obtenidas.\n"
   ]
  },
  {
   "cell_type": "markdown",
   "id": "controlling-footwear",
   "metadata": {},
   "source": [
    "## Imports"
   ]
  },
  {
   "cell_type": "code",
   "execution_count": null,
   "id": "agreed-intelligence",
   "metadata": {},
   "outputs": [],
   "source": [
    "import pandas as pd\n",
    "import numpy as np\n",
    "from nltk.corpus import stopwords \n",
    "from nltk.stem.snowball import SnowballStemmer\n",
    "from sklearn.feature_extraction.text import CountVectorizer, TfidfTransformer\n",
    "import seaborn as sns\n",
    "import matplotlib.pyplot as plt"
   ]
  },
  {
   "cell_type": "markdown",
   "id": "civil-cleaner",
   "metadata": {},
   "source": [
    "## Ejercicio 1\n",
    "\n",
    "Leer los datos del archivo `spam.csv`. \n",
    "\n",
    "Mantener sólo las columnas 1 y 2 etiquetarlas como 'target' y 'text'\n",
    "\n",
    "Ayuda: usar `encoding='iso8859_14'`"
   ]
  },
  {
   "cell_type": "code",
   "execution_count": null,
   "id": "attached-bowling",
   "metadata": {},
   "outputs": [],
   "source": []
  },
  {
   "cell_type": "markdown",
   "id": "mounted-carry",
   "metadata": {},
   "source": [
    "## Ejercicio 2\n",
    "\n",
    "Los textos del dataset están en idioma inglés.\n",
    "\n",
    "Construir una lista de stems de stopwords usando `SnowballStemmer`\n",
    "\n",
    "Generar una instancia de DataFrame resultado de aplicar CountVectorizer a los textos de los mails, usando como stopwords la lista resultado del paso anterior.\n"
   ]
  },
  {
   "cell_type": "code",
   "execution_count": null,
   "id": "threaded-lighter",
   "metadata": {},
   "outputs": [],
   "source": []
  },
  {
   "cell_type": "markdown",
   "id": "noticed-bracket",
   "metadata": {},
   "source": [
    "## Ejercicio 3\n",
    "\n",
    "A partir del encoding resultado de CountVectorizer, generar una instancia de DataFrame resultado de aplicar TfidfTransformer.\n"
   ]
  },
  {
   "cell_type": "code",
   "execution_count": null,
   "id": "ancient-commander",
   "metadata": {},
   "outputs": [],
   "source": []
  },
  {
   "cell_type": "markdown",
   "id": "sharp-european",
   "metadata": {},
   "source": [
    "## Ejercicio 4\n",
    "\n",
    "Comprobemos que los valores de la representación resultado de CountVectorizer tienen rango de valores disímiles, y distintos a la representación obtenida con TfidfTransformer\n",
    "\n",
    "Para eso grafiquemos\n",
    "\n",
    "1. Mediante un scatterplot los valores medios de cada palabra de la representación resultado de CountVectorizer.\n",
    "\n",
    "2. Mediante un scatterplot los valores medios de cada palabra de la representación resultado de TfidfTransformer.\n",
    "\n",
    "3. Mediante `errorbar` https://matplotlib.org/stable/api/_as_gen/matplotlib.pyplot.errorbar.html, \n",
    "    \n",
    "    en el eje x los valores medios de CountVectorizer de cada palabra \n",
    "    en el eje y los valores medios de TfidfTransformer de cada palabra \n",
    "    como error x los desvíos estándar de CountVectorizer de cada palabra \n",
    "    como error y los desvíos estándar de TfidfTransformer de cada palabra \n",
    "    \n",
    "Obervemos que, tal como esperamos, la dispersión es mayor en el eje x (CountVectorizer) que en el eje y (TfidfTransformer)"
   ]
  },
  {
   "cell_type": "code",
   "execution_count": null,
   "id": "returning-module",
   "metadata": {},
   "outputs": [],
   "source": []
  },
  {
   "cell_type": "code",
   "execution_count": null,
   "id": "behind-improvement",
   "metadata": {},
   "outputs": [],
   "source": []
  },
  {
   "cell_type": "code",
   "execution_count": null,
   "id": "veterinary-brick",
   "metadata": {},
   "outputs": [],
   "source": []
  }
 ],
 "metadata": {
  "kernelspec": {
   "display_name": "Python 3",
   "language": "python",
   "name": "python3"
  },
  "language_info": {
   "codemirror_mode": {
    "name": "ipython",
    "version": 3
   },
   "file_extension": ".py",
   "mimetype": "text/x-python",
   "name": "python",
   "nbconvert_exporter": "python",
   "pygments_lexer": "ipython3",
   "version": "3.8.5"
  }
 },
 "nbformat": 4,
 "nbformat_minor": 5
}

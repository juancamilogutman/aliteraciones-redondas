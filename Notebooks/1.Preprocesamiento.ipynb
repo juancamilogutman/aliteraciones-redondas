{
 "cells": [
  {
   "cell_type": "code",
   "execution_count": null,
   "metadata": {},
   "outputs": [],
   "source": [
    "# initial setup\n",
    "%run \"../../../common/0_notebooks_base_setup.py\"\n"
   ]
  },
  {
   "cell_type": "markdown",
   "metadata": {},
   "source": [
    "<img src='../../../common/logo_DH.png' align='left' width=35%/>\n"
   ]
  },
  {
   "cell_type": "markdown",
   "metadata": {},
   "source": [
    "<a id=\"section_TOC\"></a> \n",
    "\n",
    "## Tabla de Contenidos\n",
    "\n",
    "[1- Introducción](#section_intro)\n",
    "\n",
    "$\\hspace{.5cm}$[1.1- El problema de la dimensionalidad](#section_dimension)\n",
    "\n",
    "$\\hspace{.5cm}$[1.2- Bag of words](#section_bag_of_words)\n",
    "\n",
    "[2- Preprocesamiento de texto](#section_NLTK)\n",
    "\n",
    "$\\hspace{.5cm}$[2.1 Tokenización](#section_token)\n",
    "\n",
    "$\\hspace{.5cm}$[2.2 Generación de vocabulario](#section_vocabulary)\n",
    "\n",
    "$\\hspace{1cm}$[2.2.1 Stopwords](#section_stopwords)\n",
    "\n",
    "$\\hspace{1cm}$[2.2.2 Stemming and Lemmatization](#section_stem_lemma)\n",
    "\n",
    "$\\hspace{.5cm}$[2.3 Ejemplo](#section_caso)\n",
    "\n",
    "$\\hspace{.5cm}$[2.4 Encoding: vectorización de los documentos](#section_encoding)\n",
    "\n",
    "[3- Singular value decomposition](#section_SVD)\n",
    "\n",
    "[4- La biblioteca de Babel](#section_babel)\n",
    "\n",
    "\n",
    "\n"
   ]
  },
  {
   "cell_type": "markdown",
   "metadata": {},
   "source": [
    "<a id=\"section_intro\"></a> \n",
    "\n",
    "### Introducción\n",
    "[Volver al índice](#section_TOC)\n",
    "\n",
    "En esta práctica trabajaremos con datos de tipo texto. Algo hemos hecho ya cuando preprocesamos datasets usando, por ejemplo, expresiones regulares. Lo que hacíamos en ese entonces era buscar algo que ya sabíamos que estaba allí. La tarea que nos ocupará ahora es diferente. Queremos usar los algoritmos de machine learning que estuvimos aprendiendo para hacer, por ejemplo, clasificación, pero con textos.\n",
    "\n",
    "Existen múltiples escenarios en los cuales querríamos hacer esto. Uno de los primeros problemas de aplicación de machine learning, de hecho, fue el de clasificación de correos como spam o no-spam. Otros casos son la clasificación de comentarios de usuarios sobre algún producto como positivos o negativos, identificar a qué sección de un diario pertenecen distintas notas, etc. En definiva, queremos extraer información sobre el contenido de los textos.\n",
    "\n",
    "Para poder implementar los modelos que ya conocemos, necesitamos representar los datos como una matriz de features. En el caso de modelos de aprendizaje supervisado, necesitamos además una etiqueta, como spam/ham.\n",
    "\n",
    "<b>¿Cómo convertirían un texto en una matriz de features?</b>\n",
    "\n",
    "<a id=\"section_dimension\"></a> \n",
    "### El problema de la dimensionalidad\n",
    "[Volver al índice](#section_TOC)\n",
    "\n",
    "Los textos son secuencias de palabras (y signos de puntuación!) y el sentido de los mismos está contenido precisamente en las estructuras semánticas que forman estos elementos combinados. Es decir que el sentido no está dado por la mera presencia de las palabras, sino por cómo se articulan.\n",
    "\n",
    "En 'La Biblioteca de Babel', Borges imagina una biblioteca compuesta por libros de tamaño fijo que contienen todas las combinaciones posibles de los 22 caracteres de un alfabeto, más el punto, la coma y el espacio. En el cuento, los libros son de 410 páginas, cada una con 40 renglones de 80 caracteres cada uno. \n",
    "\n",
    "El número de libros distintos que se pueden formar de esta manera es abismal (¿cómo lo calcularían?). Dado que los libros de la biblioteca contienen todas las combinaciones de caracteres posibles, algunos de estos libros son casi iguales: tal es el caso de aquellos que difieren sólo en un puñado de caracteres. Considerar a tales libros como diferentes sería un despropósito si lo que importa es el sentido semántico de los textos. Por otro lado, la mayoría de los libros en la biblioteca es, presumiblemente, una secuencia de caracteres sin sentido, no interpretables en ningún idioma. En la historia, sin embargo, los sujetos que habitan la biblioteca (los bibliotecarios), la recorren incansablemente en busca del libro que contenga su destino, o el de la humanidad, o aquél que sea el catálogo de la biblioteca. \n",
    "\n",
    "¿Cómo cambiaría la tarea de los bibliotecarios, si contaran con herramientas de machine learning para ordenar la biblioteca? \n",
    "\n",
    "Dejando de lado el hecho de que arruinarían el bello cuento de Borges, veamos cómo podrían implementar algunas herramientas de procesamiento de texto para dicha tarea.\n",
    "\n",
    "Podríamos empezar por no considerar *cualquier* combinación de caracteres sino solamente aquellas que forman palabras dentro de un vocabulario. El número de textos posibles se reduciría enormemente, pero seguiría siendo muy grande. Esto es importante porque la tarea de organizar la biblioteca implica comparar textos, ver cuáles son más parecidos entre sí que respecto a otros. Esto es, buscar una estructura en el *espacio de los textos posibles*. El problema es que de acuerdo a lo discutido más arriba, ese espacio es de una dimensionalidad enorme. Para poder computar métricas de distancia entre los textos, para poder entrenar algoritmos de machine learning que nos permitan encontrar patrones en los datos, necesitamos definir representaciones reducidas de los textos.\n",
    "\n",
    "\n",
    "<a id=\"section_bag_of_words\"></a> \n",
    "### Bag of words\n",
    "[Volver al índice](#section_TOC)\n",
    "\n",
    "Una de las maneras más simples y efectivas de representar los textos es la que se conoce como \"bag of words\" y consiste en descartar la mayor parte de la estructura de los textos como párrafos, capítulos, etc, y conservar únicamente el conjunto de palabras y el número de veces que aparecen en el texto. Es decir, olvidamos el orden en que aparecen. Matemáticamente, el número de maneras en que podemos ordenar n elementos se calcula como n! (se lee 'factorial de n' o 'n factorial') y vale:\n",
    "\n",
    "$n!=n*(n-1)*(n-2)*(n-3)*...*3*2*1$\n",
    "\n",
    "Es decir que si tuviéramos 10 palabras diferentes para construir un texto (una oración), podríamos construir $3628800$ textos distintos ya que\n",
    "\n",
    "$10!=10*9*8*7*6*5*4*3*2*1 = 3628800 $ \n",
    "\n",
    "Pero en el esquema \"bag of words\" todos ellos estarían representados de la misma manera (la misma bolsa de palabras), de manera que serían textos indistinguibles (y el bibliotecario de babel los ubicaría en la misma sección).\n",
    "\n",
    "Antes de seguir desambigüemos un poco la jerga. Llamaremos **corpus** a un conjunto de textos (por ejemplo la biblioteca de Babel) y **documento** a cada texto que compone el corpus (puede ser un libro, un twit o el comentario de un usuario) y que a la vez es nuestra unidad de dato (sería una fila en un dataframe).\n",
    "\n",
    "Computar la representación \"bag of words\" de un corpus de documentos conlleva tres pasos:\n",
    "\n",
    "1. Tokenización: convertir cada documento a una lista de palabras (y signos de puntuación) que lo componen.\n",
    "2. Construcción de un vocabulario: colectar todas las palabras que se registraron en el corpus y ordenarlas (típicamente por orden alfabético).\n",
    "3. Encoding: representar los documentos como vectores en el espacio de las palabras del vocabulario.\n",
    "\n",
    "Veremos cada uno de estos pasos en detalle y luego incorporaremos herramientas de sklearn que permiten aglutinar todo en un sólo modelo.\n",
    "\n",
    "\n"
   ]
  },
  {
   "cell_type": "markdown",
   "metadata": {},
   "source": [
    "\n",
    "<a id=\"section_NLTK\"></a>\n",
    "### Preprocesamiento de texto\n",
    "[Volver al índice](#section_TOC)\n",
    "\n",
    "\n",
    "https://www.nltk.org\n",
    "\n",
    "NLTK (Natural Language Toolkit) es una librería de python de código abierto para el procesamiento de lenguaje natural. Tiene un libro online gratuito para consultar:\n",
    "\n",
    "Steven Bird, Ewan Klein, and Edward Loper (2009). Natural Language Processing with Python. O’Reilly Media Inc. http://nltk.org/book\n",
    "\n",
    "\n",
    "\n",
    "\n"
   ]
  },
  {
   "cell_type": "code",
   "execution_count": null,
   "metadata": {},
   "outputs": [],
   "source": [
    "# ! conda install --yes nltk==3.4.5\n",
    "# ! conda install --yes unidecode"
   ]
  },
  {
   "cell_type": "code",
   "execution_count": null,
   "metadata": {},
   "outputs": [],
   "source": [
    "import nltk"
   ]
  },
  {
   "cell_type": "markdown",
   "metadata": {},
   "source": [
    "<a id=\"section_token\"></a>\n",
    "\n",
    "### Tokenización\n",
    "[Volver al índice](#section_TOC)\n",
    "\n",
    "\n",
    "Tokenización es la transformación de un texto a unidades constitutivas llamadas tokens. Los tokens son típicamente las palabras y signos de puntuación. Podríamos intentar hacer esto mediante métodos de la clase string que ya conocemos, por ejemplo usando split(' ') para partir el string en los espacios en blanco.\n",
    "\n"
   ]
  },
  {
   "cell_type": "code",
   "execution_count": null,
   "metadata": {},
   "outputs": [],
   "source": [
    "sentence=\"Pythoners are very intelligent and work very pythonly and now they are pythoning their way to success.\"\n",
    "print(sentence,'\\n')\n",
    "print(sentence.split(' '))"
   ]
  },
  {
   "cell_type": "markdown",
   "metadata": {},
   "source": [
    "#### Tokenizers\n",
    "\n",
    "Como vemos esto tiene el problema de que no separa las palabras de los signos de puntuación, como se nota en el último token: \"success.\"\n",
    "\n",
    "La librería NLTK cuenta con herramientas un poco más sofisticadas para hacer esto, identificando los signos de puntuación y cuándo los mismos separan oraciones y cuándo cumplen otra función, como una abreviatura."
   ]
  },
  {
   "cell_type": "code",
   "execution_count": null,
   "metadata": {},
   "outputs": [],
   "source": [
    "from nltk.tokenize import word_tokenize, sent_tokenize\n",
    "print(word_tokenize(sentence))"
   ]
  },
  {
   "cell_type": "markdown",
   "metadata": {},
   "source": [
    " Por otro lado, si quisiéramos obtener una lista de oraciones usando split obtendríamos problemas similares:"
   ]
  },
  {
   "cell_type": "code",
   "execution_count": null,
   "metadata": {
    "scrolled": true
   },
   "outputs": [],
   "source": [
    "text = \"This is the first sentence. A gallon of milk in the U.S. costs $2.99. Is this the third sentence? Yes, it is!\"\n",
    "print('Oración original:')\n",
    "print(text,'\\n')\n",
    "\n",
    "\n",
    "sentences=text.split('.')\n",
    "\n",
    "print('Tokenizamos usando split:')\n",
    "print(sentences,'\\n')\n",
    "\n",
    "print('Tokenizamos usando sent_tokenize:')\n",
    "print(sent_tokenize(text))\n",
    "\n"
   ]
  },
  {
   "cell_type": "markdown",
   "metadata": {},
   "source": [
    "Es posible que en algunos casos el tokenizador falle, por ejemplo no reconociendo una abreviatura. En el siguiente ejemplo el tokenizador no reconoce 'al.' de modo que interpreta el punto como el fin de una oración.\n",
    "\n",
    "\n"
   ]
  },
  {
   "cell_type": "code",
   "execution_count": null,
   "metadata": {},
   "outputs": [],
   "source": [
    "# EJEMPLO EN DONDE FALLA sent_tokenizer\n",
    "text2=\"According to Hotho et al. (2005) we can differ three different perspectives of text mining, namely text mining as information extraction, text mining as text data mining, and text mining as KDD (Knowledge Discovery in Databases) process. Text mining is 'the discovery by computer of new, previously unknown information, by automatically extracting information from different written resources.\"\n",
    "tokenized_2=sent_tokenize(text2);\n",
    "tokenized_2"
   ]
  },
  {
   "cell_type": "markdown",
   "metadata": {},
   "source": [
    "Podemos *tunear* el tokenizador incluyendo abreviaturas *a piacere*. Para ello, en lugar de importar la función sent_tokenize, instanciamos los objetos PunkTrainer y PunktSentenceTokenizer. La idea de la siguiente celda no es explicar en detalle estos objetos, sino mostrarles que existen y referirlos [aquí](https://nlpforhackers.io/splitting-text-into-sentences/) para más información.\n",
    "\n",
    "(Si la url anterior no está accesible pueden consultar http://www.nltk.org/api/nltk.tokenize.html?highlight=tokenizer#nltk.tokenize.punkt.PunktTrainer)"
   ]
  },
  {
   "cell_type": "code",
   "execution_count": null,
   "metadata": {},
   "outputs": [],
   "source": [
    "#nltk.download('punkt')\n",
    "from nltk.tokenize.punkt import PunktSentenceTokenizer, PunktTrainer\n",
    "trainer = PunktTrainer()\n",
    "trainer.INCLUDE_ALL_COLLOCS = True\n",
    "tokenizer = PunktSentenceTokenizer(trainer.get_params())\n",
    "tokenizer._params.abbrev_types.add('al')\n",
    "tokenized_text2=tokenizer.tokenize(text2);\n",
    "tokenized_text2"
   ]
  },
  {
   "cell_type": "markdown",
   "metadata": {},
   "source": [
    "<a id=\"section_vocabulary\"></a> \n",
    "\n",
    "### Generación del vocabulario\n",
    "[Volver al índice](#section_TOC)\n",
    "\n",
    "\n",
    "Dijimos que vamos a representar los textos como una bolsa de palabras. Es decir que podríamos tokenizar todos los documentos y definir el vocabulario como el set de palabras que aparecieron al menos una vez en todo el corpus.\n",
    "Esto tiene el problema de que el número de palabras será muy grande y muchas de ellas serán muy poco informativas sobre el contenido del texto, por ejemplo las preposiciones, pronombres, etc. A estas palabras se las llama stopwords y a menudo se las excluye del vocabulario. Además, otra técnica para reducir la dimensionalidad del problema consiste en agrupar palabras que comparten la misma raíz etimológica como \"correr\", \"corriendo\", \"corredor\"."
   ]
  },
  {
   "cell_type": "markdown",
   "metadata": {},
   "source": [
    "<a id=\"section_stopwords\"></a> \n",
    "\n",
    "#### Stopwords\n",
    "[Volver al índice](#section_TOC)\n",
    "\n",
    "NLTK tiene listas de stopwords en distintos idiomas, podemos acceder a las mismas del siguiente modo:"
   ]
  },
  {
   "cell_type": "code",
   "execution_count": null,
   "metadata": {},
   "outputs": [],
   "source": [
    "nltk.download('stopwords')\n",
    "from nltk.corpus import stopwords \n",
    "stopwords_sp = stopwords.words('spanish');\n",
    "\n",
    "print('\\n Las primeras 20 en español:')\n",
    "print(stopwords_sp[:20])\n",
    "\n",
    "stopwords_en=stopwords.words('english');\n",
    "\n",
    "print('\\n Las primeras 20 en ingles:')\n",
    "print(stopwords_en[:20])\n"
   ]
  },
  {
   "cell_type": "markdown",
   "metadata": {},
   "source": [
    "<a id=\"section_stem_lemma\"></a> \n",
    "\n",
    "#### Stemming y Lemmatization \n",
    "[Volver al índice](#section_TOC)\n",
    "\n",
    "\n",
    "Stemming y lemmatization son maneras de reducir las palabras a su raíz etimológica. En el caso de stemming, esto se hace por sustracción de sufijos y prefijos de las palabras. La raíz que queda (stem) muchas veces no es una palabra en sí misma. Por ejemplo al pasar la palabra \"corriendo\" por un stemmer obtenemos \"corr\". \n",
    "\n",
    "El lematizador, por el contrario, siempre devuelve una versión reducida de la palabra (lema), pero que es en sí misma una palabra de la misma familia.\n",
    "\n",
    "Para profundizar:\n",
    "https://www.datacamp.com/community/tutorials/stemming-lemmatization-python\n",
    "\n",
    "#### Stemming\n",
    "\n",
    "Para el idioma inglés, podemos elegir entre PorterStammer o LancasterStammer, siendo PorterStemmer el más antiguo desarrollado originalmente en 1979. LancasterStemmer se desarrolló en 1990 y utiliza un enfoque más agresivo que el algoritmo de stemming de Porter. \n",
    "\n"
   ]
  },
  {
   "cell_type": "code",
   "execution_count": null,
   "metadata": {},
   "outputs": [],
   "source": [
    "# Importamos los algoritmos de Stemming\n",
    "\n",
    "from nltk.stem import PorterStemmer\n",
    "from nltk.stem import LancasterStemmer"
   ]
  },
  {
   "cell_type": "code",
   "execution_count": null,
   "metadata": {},
   "outputs": [],
   "source": [
    "# Creamos objects a partir de las clases PorterStemmer y LancasterStemmer\n",
    "\n",
    "porter = PorterStemmer()\n",
    "lancaster=LancasterStemmer()\n",
    "\n",
    "\n",
    "# Le pasamos palabras a ambos algoritmos para que hagan stemming:\n",
    "print(\"Porter Stemmer\")\n",
    "print(porter.stem(\"cats\"))\n",
    "print(porter.stem(\"trouble\"))\n",
    "print(porter.stem(\"troubling\"))\n",
    "print(porter.stem(\"troubled\"))\n",
    "print(\"\\n\")\n",
    "print(\"Lancaster Stemmer\")\n",
    "print(lancaster.stem(\"cats\"))\n",
    "print(lancaster.stem(\"trouble\"))\n",
    "print(lancaster.stem(\"troubling\"))\n",
    "print(lancaster.stem(\"troubled\"))\n",
    "print(\"\\n\")\n",
    "\n",
    "# Creamos una lista de palabras para hacer stemming con ambos algoritmos:\n",
    "word_list = [\"friend\", \"friendship\", \"friends\", \"friendships\",\"stabil\",\"destabilize\",\"misunderstanding\",\"railroad\",\"moonlight\",\"football\"]\n",
    "print(\"{0:20}{1:20}{2:20}\".format(\"Word\",\"Porter Stemmer\",\"lancaster Stemmer\"))\n",
    "for word in word_list:\n",
    "    print(\"{0:20}{1:20}{2:20}\".format(word,porter.stem(word),lancaster.stem(word)))\n",
    "\n"
   ]
  },
  {
   "cell_type": "markdown",
   "metadata": {},
   "source": [
    "#### Stemmers en otros idiomas:\n",
    "\n",
    "Python **nltk** no solo proporciona dos stemmers en inglés: PorterStemmer y LancasterStemmer, sino también muchos stemmers que no están en inglés como **SnowballStemmers**.\n",
    "\n",
    "Idiomas que maneja **SnowballStemmers**:\n",
    "\n",
    " - danés\n",
    " - holandés\n",
    " - inglés\n",
    " - francés\n",
    " - alemán\n",
    " - húngaro\n",
    " - italiano\n",
    " - noruego\n",
    " - portugués\n",
    " - rumano\n",
    " - ruso\n",
    " - español\n",
    " - sueco"
   ]
  },
  {
   "cell_type": "code",
   "execution_count": null,
   "metadata": {},
   "outputs": [],
   "source": [
    "from nltk.stem.snowball import SnowballStemmer\n",
    "word='having';\n",
    "englishStemmer=SnowballStemmer(\"english\")\n",
    "print(\"{0:15}{1:10}\".format(word, englishStemmer.stem(word)))\n",
    "\n",
    "palabra='corriendo';\n",
    "spanishStemmer=SnowballStemmer(\"spanish\")\n",
    "print(\"{0:15}{1:10}\".format(palabra, spanishStemmer.stem(palabra)))"
   ]
  },
  {
   "cell_type": "code",
   "execution_count": null,
   "metadata": {},
   "outputs": [],
   "source": [
    "# Defimimos una función que aplica stemming a una frase en castellano:\n",
    "def stemfraseesp(frase):    \n",
    "    token_words=word_tokenize(frase)\n",
    "    token_words\n",
    "    stem_sentence=[]    \n",
    "    spanishStemmer=SnowballStemmer(\"spanish\",ignore_stopwords=True)\n",
    "    for word in token_words:\n",
    "        stem_sentence.append(spanishStemmer.stem(word))\n",
    "        stem_sentence.append(\" \")\n",
    "    return \"\".join(stem_sentence)\n"
   ]
  },
  {
   "cell_type": "code",
   "execution_count": null,
   "metadata": {},
   "outputs": [],
   "source": [
    "frase1 = \"Una frase de prueba en castellano para aplicar stemming\"\n",
    "\n",
    "x=stemfraseesp(frase1)\n",
    "print(x)"
   ]
  },
  {
   "cell_type": "markdown",
   "metadata": {},
   "source": [
    "#### Lemmatization en NLTK"
   ]
  },
  {
   "cell_type": "code",
   "execution_count": null,
   "metadata": {},
   "outputs": [],
   "source": [
    "nltk.download('wordnet')\n",
    "\n",
    "from nltk.stem import WordNetLemmatizer\n",
    "import re # Libreria para editar texto mediante expresiones regulares\n",
    "\n",
    "wordnet_lemmatizer = WordNetLemmatizer()\n",
    "\n",
    "sentence = \"He was running and eating at same time. He has bad habit of swimming after playing long hours in the Sun.\"\n",
    "sentence=re.sub(r'[.]','',sentence) ; # Removemos los puntos antes de tokenizar. Usamos una expresión regular que reemplaza los '.' por un string vacio ''\n",
    "\n",
    "sentence_words = word_tokenize(sentence);\n",
    "print(\"\\n{0:20}{1:20}{2:20}\\n\".format(\"Word\",\"Lemma\",'Stem'))\n",
    "for word in sentence_words:\n",
    "    print (\"{0:20}{1:20}{2:20}\".format(word,wordnet_lemmatizer.lemmatize(word),englishStemmer.stem(word)))"
   ]
  },
  {
   "cell_type": "markdown",
   "metadata": {},
   "source": [
    "<a id=\"section_caso\"></a> \n",
    "\n",
    "#### Antes de seguir, apliquemos lo visto hasta aquí a un pequeño corpus\n",
    "\n",
    "[Volver al índice](#section_TOC)\n"
   ]
  },
  {
   "cell_type": "code",
   "execution_count": null,
   "metadata": {},
   "outputs": [],
   "source": [
    "# Generamos textos \n",
    "\n",
    "t0 = \"El potro y el angel llegaron al cine por casualidad.\"\n",
    "t1 = \"El ángel, el tanque del cine nacional, un paso más cerca del oscar\"\n",
    "t2 = \"final del mes del cine nacional: 'El Potro', la única cinta 'millonaria'\"\n",
    "t3 = \"Juan Martin del potro volvió a tandil: se dio el ultimo baño de masas con los suyos.\"\n",
    "t4 = \"Juan Martin del potro fue recibido por una multitud en Tandil.\"\n",
    "t5=  \"Juan Martin del potro fue a ver 'El Potro' al cine y le encantó.\"\n",
    "textos=[t0,t1,t2,t3,t4,t5];"
   ]
  },
  {
   "cell_type": "markdown",
   "metadata": {},
   "source": [
    "#### Vamos a remover signos de puntuación, llevar todo el texto a minúsculas e ignorar las tildes."
   ]
  },
  {
   "cell_type": "code",
   "execution_count": null,
   "metadata": {},
   "outputs": [],
   "source": [
    "import unidecode\n",
    "import re\n",
    "\n",
    "textos_limpios=[];\n",
    "for t in textos:\n",
    "    t_lower_no_accents=unidecode.unidecode(t.lower()); # sacamos acentos y llevamos a minuscula\n",
    "    t_lower_no_accents_no_punkt=re.sub(r'([^\\s\\w]|_)+','',t_lower_no_accents); # quitamos signos de puntuacion usando una regex que reemplaza todo lo q no sean espacios o palabras por un string vacio\n",
    "    print(t_lower_no_accents_no_punkt)\n",
    "    textos_limpios.append(t_lower_no_accents_no_punkt)\n",
    "    "
   ]
  },
  {
   "cell_type": "markdown",
   "metadata": {},
   "source": [
    "#### Tokenizamos y removemos stopwords"
   ]
  },
  {
   "cell_type": "code",
   "execution_count": null,
   "metadata": {},
   "outputs": [],
   "source": [
    "# Tokenizamos los textos, removiendo stopwords\n",
    "tokenized_texts=[];\n",
    "for t in textos_limpios:\n",
    "    tokens=word_tokenize(t);\n",
    "    tokens_without_stopwords=[tok for tok in tokens if not (tok in stopwords_sp)]; # Creamos una lista de tokens que no pertenecen a la lista de stopwords\n",
    "    print(tokens_without_stopwords)\n",
    "    tokenized_texts.append(tokens_without_stopwords);"
   ]
  },
  {
   "cell_type": "code",
   "execution_count": null,
   "metadata": {},
   "outputs": [],
   "source": [
    "# Construimos el vocabulario como el set de tokens conservados\n",
    "vocabulary=sorted(set([tok for tokens in tokenized_texts for tok in tokens]));\n",
    "print(vocabulary)"
   ]
  },
  {
   "cell_type": "markdown",
   "metadata": {},
   "source": [
    "<a id=\"section_encoding\"></a>\n",
    "\n",
    "### Encoding: representación vectorial de los documentos\n",
    "[Volver al índice](#section_TOC)\n",
    "\n",
    "De acuerdo a lo discutido en la introducción, en el esquema \"Bag of words\" podemos representar a los documentos en función de qué palabras los componen, sin considerar las estructuras semánticas que éstas forman. De esta manera, un documento puede representarse como un vector en el espacio de palabras que conforman el vocabulario. Existen diferentes maneras de definir estos vectores. La más intuitiva es contar el número de veces que aparece cada palabra en un documento y asignarlo como la coordenada o el peso correspondiente a dicha palabra en el vector. Veamoslo en un ejemplo.\n",
    "\n"
   ]
  },
  {
   "cell_type": "code",
   "execution_count": null,
   "metadata": {},
   "outputs": [],
   "source": [
    "import numpy as np\n",
    "import pandas as pd\n",
    "\n",
    "Encoded_data=np.zeros((len(tokenized_texts),len(vocabulary)),dtype='int')\n",
    "for i,text in enumerate(tokenized_texts):\n",
    "    for word in text:\n",
    "        Encoded_data[i,vocabulary.index(word)]+=1 # contamos\n",
    "Encoded_data=pd.DataFrame(Encoded_data,columns=vocabulary,index=['t'+str(i) for i in range(len(tokenized_texts))]);\n",
    "Encoded_data\n"
   ]
  },
  {
   "cell_type": "markdown",
   "metadata": {},
   "source": [
    "#### CountVectorizer\n",
    "\n",
    "Todo lo anterior lo podemos hacer en un sólo paso con la herramienta CountVectorizer de scikit-learn. \n",
    "\n",
    "\n",
    "Notar que al momento de instanciarla, nos permite pasarle una lista de stopwords para que no las tenga en cuenta.\n",
    "Como todos los modelos de sklearn, tiene los métodos fit y transform. En este caso \"fit\" genera el vocabulario a partir de los documentos, y \"transform\" vectoriza los documentos al espacio del vocabulario.\n",
    "\n",
    "Como típicamente el vocabulario es muy grande, las matrices son muy esparsas (tienen muchos ceros) por lo que es conveniente almacenar sólamente las entradas no nulas de las mismas en un objeto de la clase \"sparse matrix\". CountVectorizer genera matrices de esta clase."
   ]
  },
  {
   "cell_type": "code",
   "execution_count": null,
   "metadata": {},
   "outputs": [],
   "source": [
    "from sklearn.feature_extraction.text import CountVectorizer\n",
    "\n",
    "# The solution is to make sure that you preprocess your stop list to make sure that it is normalised like your tokens will be, \n",
    "# and pass the list of normalised words as stop_words to the vectoriser.\n",
    "# vectorizer=CountVectorizer(stop_words=stopwords_sp,lowercase=True,strip_accents='unicode');\n",
    "\n",
    "# si no hacemos esto y usamos directo stopwords_sp, CountVectorizer devuelve un warning\n",
    "stopwords_sp_stem = [spanishStemmer.stem(x) for x in stopwords_sp]\n",
    "\n",
    "vectorizer=CountVectorizer(stop_words=stopwords_sp_stem,lowercase=True,strip_accents='unicode');\n",
    "\n",
    "vectorizer.fit(textos);\n",
    "print('Vocabulario:\\n',vectorizer.vocabulary_) # vocabulario del corpus con la frecuencia de cada término\n",
    "\n",
    "\n",
    "CV_encoding=vectorizer.transform(textos);\n",
    "print('\\n Transformamos los textos a una matriz esparsa:',type(CV_encoding))\n",
    "\n",
    "pd.DataFrame(CV_encoding.todense(),columns=vectorizer.get_feature_names()) # Usamos el método .todense() para ver la matriz completa\n",
    "\n"
   ]
  },
  {
   "cell_type": "markdown",
   "metadata": {},
   "source": [
    "#### Term Frequency Inverse Document Frequency (TF-IDF)\n",
    "\n",
    "La representación de los textos generada mediante countvectorizer tiene en cuenta cuántas veces se observó cada término del vocabulario en cada documento. El corpus con el que trabajamos hasta ahora es extremadamente chico y homogéneo (6 textos de una oración cada uno), pero podría pasar que un documento fuera mucho más largo que los otros y por lo tanto el conteo de palabras diera números mucho mayores en él que en el resto de los documentos. Para corregir esta anomalía, deberíamos normalizar (dividir) el conteo de cada palabra por el tamaño de cada documento.\n",
    "\n",
    "Pero además de hacer esto, hay palabras que aparecen en muchos documentos y resultan entonces poco informativas para distinguirlos. Una palabra que aparece muchas veces en un documento, pero pocas veces en los demás, es una palabra muy distintiva de ese documento y será importante para representarlo, mientras que palabras que aparecen pocas veces, o que aparecen en muchos documentos serán menos informativas. \n",
    "\n",
    "La transformación TF-IDF tiene en cuenta estos factores de la siguiente manera. El término 't' dentro del documento 'd' tiene un coeficiente tf-idf(t,d) que es el producto de dos factores:\n",
    "\n",
    "\\begin{equation}\n",
    " \\text{tf-idf}(t,d)=\\text{tf}(t,d) \\times idf(t)\n",
    "\\end{equation}\n",
    "\n",
    "Por un lado tf(t,d) es la frecuencia de aparición de t dentro de d (normalizada). Por otro lado, idf(t) es la inverse document frecuency del término t y se calcula como:\n",
    "\\begin{equation}\n",
    "    \\text{idf}(t)=\\log{\\frac{N}{\\text{df(t)+1}}} \n",
    "\\end{equation}\n",
    "\n",
    "en donde N es el número de documentos y df(t) es el número de documentos en los que aparece el término t. Se suele sumar 1 en el denominador para no tener problemas si existe un término en el vocabulario que no aparece en ningún documento (df=0). \n",
    "\n",
    "\n",
    "Por ejemplo:\n",
    "\n",
    "document1='el potro y el angel llegaron al cine por casualidad'\n",
    "\n",
    "document2='el angel el tanque del cine nacional un paso mas cerca del oscar'\n",
    "\n",
    "document3='final del mes del cine nacional el angel la unica cinta millonaria'\n",
    "\n",
    "document4='juan martin del potro volvio a tandil se dio el ultimo bano de masas con los suyos'\n",
    "\n",
    "\n",
    "\\begin{align}\n",
    "    &\\text{tf('nacional', document1)}=\\frac{1}{10}=0.1\\\\\n",
    "    &\\text{tf('nacional', document2)}=\\frac{1}{13}=0.077\\\\\n",
    "    &\\text{tf('nacional', document3)}=\\frac{0}{12}=0\\\\\n",
    "    &\\text{tf('nacional', document4)}=\\frac{0}{17}=0 \\\\\n",
    "    &\\text{idf('nacional')}=\\log{\\frac{4}{3}}=0.288\n",
    "\\end{align}\n",
    "\n",
    "y los coeficientes tf-idf:\n",
    "\n",
    "\\begin{align}\n",
    "    &\\text{tf-idf('nacional',doc1)}=0.1\\times 0.288=0.0288 \\\\\n",
    "    &\\text{tf-idf('nacional',doc2)}=0.077\\times 0.288=0.0222 \\\\\n",
    "    &\\text{tf-idf('nacional',doc3)}=0\\times 0.288=0 \\\\\n",
    "    &\\text{tf-idf('nacional',doc4)}=0\\times 0.288=0\n",
    "\\end{align}\n",
    "\n",
    "El coeficiente tfidf para \"potro\" en el documento 1 da:\n",
    "\n",
    "\\begin{equation}\n",
    "    \\text{tf-idf('potro',doc1)}= \\frac{1}{10} \\times \\log{\\frac{4}{2}}=0.07\\\\\n",
    "\\end{equation}\n",
    "\n",
    "Podemos ver que si bien \"potro\" y \"nacional\" aparecen el mismo número de veces dentro del documento 1, \"potro\" tiene un coeficiente mayor porque no aparece en ningún otro documento. \n",
    "\n",
    "#### TfidfVectorizer, TfidfTransformer\n",
    "\n",
    "En sklearn, los objetos de la clase TfidfTransformer sirven para transformar una matriz generada por CountVectorizer(). Podemos saltearnos el uso de countvectorizer y usar directamente TfidfVectorizer.\n",
    "\n",
    "A diferencia de la estimación clásica del factor idf que vimos más arriba, TfidfVectorizer y TfidfTransformer por defecto calculan una versión suavizada del idf como\n",
    "\n",
    "\\begin{equation}\n",
    "    \\text{idf(t)}= \\log{\\frac{N+1}{df(t)+1}}+1\n",
    "\\end{equation}\n",
    "\n",
    "y luego normaliza los documentos vectorizados por su norma L2. (ver https://scikit-learn.org/stable/modules/feature_extraction.html#text-feature-extraction)\n"
   ]
  },
  {
   "cell_type": "code",
   "execution_count": null,
   "metadata": {},
   "outputs": [],
   "source": [
    "from sklearn.feature_extraction.text import TfidfTransformer\n",
    "\n",
    "Tfidf_encoding=TfidfTransformer().fit_transform(CV_encoding);\n",
    "pd.DataFrame(Tfidf_encoding.todense(),columns=vectorizer.get_feature_names())\n"
   ]
  },
  {
   "cell_type": "markdown",
   "metadata": {},
   "source": [
    "<a id=\"section_SVD\"></a>\n",
    "\n",
    "### Singular Value Decomposition (SVD)\n",
    "\n",
    "[Volver al índice](#section_TOC)\n",
    "\n",
    "SVD es una manera de reducir la dimensionalidad del corpus de texto que, a diferencia de lo que hemos hecho hasta ahora, no consiste en remover elementos (stopwords, etc), sino en encontrar combinaciones de palabras que resulten informativas y quedarnos con \"las mejores\" de éstas. \n",
    "\n",
    "Una analogía posible es la siguiente: podemos describir un rectángulo dando dos variables (features): su base y su altura. Si quisiéramos describir el rectángulo con una sola de estas features, por ejemplo la base, estaríamos perdiendo información muy relevante ya que existen rectángulos muy diferentes con la misma base. Sin embargo, si generáramos una nueva variable \"área\" igual al producto de base por altura, y describiéramos al rectángulo usando solamente el área, estaríamos reduciendo la dimensionalidad de una manera mucho más razonable, guardando más información sobre el rectángulo original que al quedarnos solo con la base.\n",
    "\n",
    "SVD es una transformación algebraica parecida a PCA (principal component analysis) que se puede usar en el contexto de text mining para encontrar combinaciones lineales de los términos que resulten informativas, de modo que podamos describir el data set con un número de combinaciones menor al número de términos que teníamos originalmente. De hecho, estas combinaciones pueden considerarse como dimensiones con *sentido semántico latente* (latent semantic dimensions), es decir, dimensiones en las que tiene sentido proyectar el dataset precisamente por su contenido semántico.\n",
    "\n",
    "El motivo por el cual podemos reducir la dimensionalidad de los textos proyectandolos a estas *latent semantic dimensions* es que muchas veces existe redundancia en el conjunto de documentos. Es decir que con palabras más o menos distintas, muchos documentos hablan de los mismos temas. En el ejemplo de los 6 textos que venimos usando \n",
    "\n",
    "\n",
    "    t0='El potro y el angel llegaron al cine por casualidad.'\n",
    "    t1= 'El ángel, el tanque del cine nacional, un paso más cerca del oscar',\n",
    "    t2= \"final del mes del cine nacional: 'El Potro', la única cinta 'millonaria'\",\n",
    "    t3= 'Juan Martin del potro volvió a tandil: se dio el ultimo baño de masas con los suyos.',\n",
    "    t4= 'Juan Martin del potro fue recibido por una multitud en Tandil.',\n",
    "    t5= \"Juan Martin del potro fue a ver 'El Potro' al cine y le encantó.\"\n",
    "\n",
    "\n",
    "hay 45 palabras distintas. (Antes redujimos el número de términos a 28 quitando stopwords). Sin embargo los textos hablan esencialmente de tres temas: hay dos películas nuevas en el cine, Del Potro visitó Tandil, Del Potro fue al cine. \n",
    "\n",
    "Esta reducción de la dimensionalidad podría mejorar la performance de un clasificador o un modelo de clustering. Por otro lado, una reducción a dos o tres dimensiones nos puede permitir visualizar los datos. Hay que tener en cuenta, sin embargo, que en general necesitaremos más dimensiones para describir correctamente el corpus y es posible que la representación en dos dimensiones no nos revele mucho sobre la estructura del dataset.\n",
    "\n",
    "Lo anterior pretende dar una intuición sobre la descomposición SVD y su aplicación al análisis de textos. Comprender la matemática involucrada excede las ambiciones de esta presentación. Para indagar en ella pueden consultar alguna de estas referencias:\n",
    "\n",
    "*Practical Text Mining and Statistical Analysis for Non-structured Text Data Applications*\n",
    "2012, Chapter 11.\n",
    "\n",
    "https://en.wikipedia.org/wiki/Singular_value_decomposition\n",
    "\n"
   ]
  },
  {
   "cell_type": "code",
   "execution_count": null,
   "metadata": {},
   "outputs": [],
   "source": [
    "# Implementación de SVD para visualización\n",
    "\n",
    "import matplotlib.pyplot as plt\n",
    "import matplotlib.patches as mpatches\n",
    "from sklearn.decomposition import TruncatedSVD\n",
    "\n",
    "svd=TruncatedSVD(n_components=2);\n",
    "P=svd.fit_transform(Tfidf_encoding)\n",
    "\n",
    "#grafico\n",
    "color = ['m', 'g', 'r', 'c', 'b','k']\n",
    "plt.figure()\n",
    "patches = []\n",
    "\n",
    "for i,texto in enumerate(textos):\n",
    "    plt.plot(P[i,0], P[i,1], color[i]+\"o\")\n",
    "    patches.append(mpatches.Patch(color=color[i], label='t'+str(i)))\n",
    "\n",
    "plt.legend(handles=patches)\n",
    "plt.xlabel('dimension 1')\n",
    "plt.ylabel('dimension 2')\n",
    "#plt.axis([-4, 4, -4, 4])\n",
    "plt.show()"
   ]
  },
  {
   "cell_type": "markdown",
   "metadata": {},
   "source": [
    "Como dijimos, las dimensiones que generamos son combinaciones lineales de los términos. Podemos ver cuánto pesa cada término en la definición de estas dimensiones. Ordenemos los términos en función de cuánto pesan en cada dimensión:"
   ]
  },
  {
   "cell_type": "code",
   "execution_count": null,
   "metadata": {},
   "outputs": [],
   "source": [
    "comp1,comp2=svd.components_ # coeficientes (pesos) de los términos en cada una de las dos dimensiones\n",
    "\n",
    "indices=np.argsort(comp1); # los ordenamos de menor a mayor y nos quedamos con los índices de sus posiciones en el array\n",
    "indices=indices[::-1] # invertimos para que queden ordenados de mayor a menor\n",
    "\n",
    "print('Dimension 1:')\n",
    "print(np.array(vectorizer.get_feature_names())[indices]) # Evaluamos los términos en estas posiciones\n",
    "\n",
    "print('\\n')\n",
    "\n",
    "indices=np.argsort(comp2);\n",
    "indices=indices[::-1]\n",
    "print('Dimension 2:')\n",
    "print(np.array(vectorizer.get_feature_names())[indices])\n",
    "\n",
    "\n"
   ]
  },
  {
   "cell_type": "markdown",
   "metadata": {},
   "source": [
    "En la representación 2D de los textos se ve que hay dos grupos separados: uno que habla escencialmente de cine y otro que habla de tenis. En un escenario de aprendizaje no supervisado, podríamos encontrar estos grupos mediante un algoritmo de clustering."
   ]
  },
  {
   "cell_type": "markdown",
   "metadata": {},
   "source": [
    "<a id=\"section_babel\"></a>\n",
    "\n",
    "##### Antes de terminar, la cantidad de libros diferentes en la Biblioteca de Babel es: \n",
    "\n",
    "[Volver al índice](#section_TOC)"
   ]
  },
  {
   "cell_type": "code",
   "execution_count": null,
   "metadata": {
    "scrolled": true
   },
   "outputs": [],
   "source": [
    "babel=25**(410*40*80);"
   ]
  },
  {
   "cell_type": "markdown",
   "metadata": {},
   "source": [
    "(el print puede tardar y exigir un poquito a la máquina)"
   ]
  },
  {
   "cell_type": "code",
   "execution_count": null,
   "metadata": {},
   "outputs": [],
   "source": [
    "#print(babel)"
   ]
  },
  {
   "cell_type": "code",
   "execution_count": null,
   "metadata": {},
   "outputs": [],
   "source": []
  }
 ],
 "metadata": {
  "kernelspec": {
   "display_name": "Python 3",
   "language": "python",
   "name": "python3"
  },
  "language_info": {
   "codemirror_mode": {
    "name": "ipython",
    "version": 3
   },
   "file_extension": ".py",
   "mimetype": "text/x-python",
   "name": "python",
   "nbconvert_exporter": "python",
   "pygments_lexer": "ipython3",
   "version": "3.8.5"
  }
 },
 "nbformat": 4,
 "nbformat_minor": 4
}

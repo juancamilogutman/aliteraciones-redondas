{
 "cells": [
  {
   "cell_type": "code",
   "execution_count": null,
   "id": "little-genius",
   "metadata": {},
   "outputs": [],
   "source": [
    "# initial setup\n",
    "%run \"../../../common/0_notebooks_base_setup.py\"\n"
   ]
  },
  {
   "cell_type": "markdown",
   "id": "pursuant-information",
   "metadata": {},
   "source": [
    "<img src='../../../common/logo_DH.png' align='left' width=35%/>"
   ]
  },
  {
   "cell_type": "markdown",
   "id": "occupied-atlantic",
   "metadata": {},
   "source": [
    "# Preprocesamiento en Text Mining."
   ]
  },
  {
   "cell_type": "markdown",
   "id": "subjective-addition",
   "metadata": {},
   "source": [
    "En esta práctiva vamos a usar el dataset de mails que ya usamos en la clase de Naive Bayes.\n",
    "\n",
    "Este dataset (<a href=\"https://www.kaggle.com/riyadhrazzaq/multinomial-naive-bayes-from-scratch/data?select=spam.csv\" traget=\"_blank\">fuente</a>) tiene dos columnas:\n",
    "\n",
    "* una columna con el cuerpo del mail, \n",
    "\n",
    "* y otra con la etiqueta spam / ham según corresponda a un mail que es spam o no respectivamente.\n",
    "\n",
    "Vamos a \n",
    "* preprocesar los textos de los mails usando `CountVectorizer` y `TfidfTransformer`\n",
    "* usar Singular Value Decomposition para obtener una representación en dos dimensiones de cada mail, \n",
    "* y contruir nubes de palabras para visualizar que palabras caracterizan a cada una de la etiquetas (spam / ham).\n"
   ]
  },
  {
   "cell_type": "markdown",
   "id": "ambient-session",
   "metadata": {},
   "source": [
    "## Imports"
   ]
  },
  {
   "cell_type": "code",
   "execution_count": null,
   "id": "abroad-support",
   "metadata": {},
   "outputs": [],
   "source": [
    "import pandas as pd\n",
    "import numpy as np\n",
    "from nltk.corpus import stopwords \n",
    "from nltk.stem.snowball import SnowballStemmer\n",
    "from sklearn.feature_extraction.text import CountVectorizer, TfidfTransformer\n",
    "from sklearn.decomposition import TruncatedSVD\n",
    "from wordcloud import WordCloud\n",
    "import seaborn as sns\n",
    "import matplotlib.pyplot as plt"
   ]
  },
  {
   "cell_type": "markdown",
   "id": "private-watch",
   "metadata": {},
   "source": [
    "Si el import de `WordCloud` da error, pueden instalarla descomentando esta linea:"
   ]
  },
  {
   "cell_type": "code",
   "execution_count": null,
   "id": "distinct-liquid",
   "metadata": {},
   "outputs": [],
   "source": [
    "#! conda install -c conda-forge wordcloud=1.8.1 --yes --name dhdsblend2021"
   ]
  },
  {
   "cell_type": "markdown",
   "id": "economic-limit",
   "metadata": {},
   "source": [
    "## Ejercicio 1\n",
    "\n",
    "Leer los datos del archivo `spam.csv`. \n",
    "\n",
    "Mantener sólo las columnas 1 y 2 etiquetarlas como 'target' y 'text'\n",
    "\n",
    "Ayuda: usar `encoding='iso8859_14'`"
   ]
  },
  {
   "cell_type": "code",
   "execution_count": null,
   "id": "editorial-spotlight",
   "metadata": {},
   "outputs": [],
   "source": []
  },
  {
   "cell_type": "markdown",
   "id": "surprised-inflation",
   "metadata": {},
   "source": [
    "## Ejercicio 2\n",
    "\n",
    "Los textos del dataset están en idioma inglés.\n",
    "\n",
    "Construir una lista de stems de stopwords usando `SnowballStemmer`\n",
    "\n",
    "Generar una instancia de DataFrame resultado de aplicar CountVectorizer a los textos de los mails, usando como stopwords la lista resultado del paso anterior.\n",
    "\n",
    "A partir del encoding resultado de CountVectorizer, generar una instancia de DataFrame resultado de aplicar TfidfTransformer."
   ]
  },
  {
   "cell_type": "code",
   "execution_count": null,
   "id": "funny-instrumentation",
   "metadata": {},
   "outputs": [],
   "source": []
  },
  {
   "cell_type": "markdown",
   "id": "lesbian-ghost",
   "metadata": {},
   "source": [
    "## Ejercicio 3\n",
    "\n",
    "Representar en un scatterplot las dos componenetes más importantes que resultan de Singular Value Decomposition de la representación tf-idf, coloreando los puntos de acuerdo a su etiqueta."
   ]
  },
  {
   "cell_type": "code",
   "execution_count": null,
   "id": "nominated-cause",
   "metadata": {},
   "outputs": [],
   "source": []
  },
  {
   "cell_type": "markdown",
   "id": "violent-fitting",
   "metadata": {},
   "source": [
    "## Ejercicio 4\n",
    "\n",
    "Representar en un scatterplot las dos componenetes más importantes que resultan de Singular Value Decomposition de la representación CountVectorizer, coloreando los puntos de acuerdo a su etiqueta.\n",
    "\n",
    "¿Cuál de las dos (ej 3 vs ej 4) les resulta más informativa?\n",
    "\n",
    "¿Creen que algún algoritmo de clustering agruparía adecuadamente los tipos de email? ¿Por qué?"
   ]
  },
  {
   "cell_type": "code",
   "execution_count": null,
   "id": "faced-burns",
   "metadata": {},
   "outputs": [],
   "source": []
  },
  {
   "cell_type": "markdown",
   "id": "identical-syria",
   "metadata": {},
   "source": [
    "## Ejercicio 5\n",
    "\n",
    "Usando este <a href=\"https://www.python-graph-gallery.com/wordcloud/\" target=\"_blank\">tutorial</a> o este  <a href=\"https://towardsdatascience.com/simple-wordcloud-in-python-2ae54a9f58e5\" target=\"_blank\">otro</a> generen las nubes de palabras para \n",
    "\n",
    "* los registros de etiqueta spam\n",
    "* los registros de etiqueta ham\n",
    "\n",
    "¿El resultado concuerda con la intuición que tienen sobre los textos de mails spam?"
   ]
  },
  {
   "cell_type": "code",
   "execution_count": null,
   "id": "stunning-upper",
   "metadata": {},
   "outputs": [],
   "source": []
  },
  {
   "cell_type": "code",
   "execution_count": null,
   "id": "photographic-participant",
   "metadata": {},
   "outputs": [],
   "source": []
  }
 ],
 "metadata": {
  "kernelspec": {
   "display_name": "Python 3",
   "language": "python",
   "name": "python3"
  },
  "language_info": {
   "codemirror_mode": {
    "name": "ipython",
    "version": 3
   },
   "file_extension": ".py",
   "mimetype": "text/x-python",
   "name": "python",
   "nbconvert_exporter": "python",
   "pygments_lexer": "ipython3",
   "version": "3.8.5"
  }
 },
 "nbformat": 4,
 "nbformat_minor": 5
}
